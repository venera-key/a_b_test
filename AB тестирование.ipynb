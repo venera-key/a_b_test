{
 "cells": [
  {
   "cell_type": "markdown",
   "metadata": {},
   "source": [
    "## A/B–тестирование  \n",
    "#### Условие\n",
    "В ходе тестирования одной гипотезы целевой группе была предложена новая механика оплаты услуг на сайте, у контрольной группы оставалась базовая механика. Проанализируем итоги эксперимента и сделаем вывод, стоит ли запускать новую механику оплаты на всех пользователей."
   ]
  },
  {
   "cell_type": "markdown",
   "metadata": {},
   "source": [
    "#### В качестве входных данных 4 csv-файла:  \n",
    "\n",
    "groups.csv – файл с информацией о принадлежности пользователя к контрольной или экспериментальной группе (А – контроль, B – целевая группа)   \n",
    "groups_add.csv – дополнительный файл с пользователями, который вам прислали спустя 2 дня после передачи данных  \n",
    "active_studs.csv – файл с информацией о пользователях, которые зашли на платформу в дни проведения эксперимента.   \n",
    "checks.csv – файл с информацией об оплатах пользователей в дни проведения эксперимента. "
   ]
  },
  {
   "cell_type": "markdown",
   "metadata": {},
   "source": [
    "## Этап 1. Загрузка файлов, чтение, EDA, объединение, очистка"
   ]
  },
  {
   "cell_type": "markdown",
   "metadata": {},
   "source": [
    "##### 1. Загрузка данных с публичного доступа ЯндексДиск"
   ]
  },
  {
   "cell_type": "code",
   "execution_count": 4,
   "metadata": {},
   "outputs": [],
   "source": [
    "import pandas as pd\n",
    "from scipy import stats\n",
    "import seaborn as sns\n",
    "import matplotlib.pyplot as plt\n",
    "import requests\n",
    "from urllib.parse import urlencode\n",
    "\n",
    "\n",
    "\n",
    "# Список публичных ссылок на файлы\n",
    "groups_yd       = 'https://disk.yandex.ru/d/UhyYx41rTt3clQ'  \n",
    "groups_add_yd   = 'https://disk.yandex.ru/d/5Kxrz02m3IBUwQ'          \n",
    "active_studs_yd = 'https://disk.yandex.ru/d/Tbs44Bm6H_FwFQ'          \n",
    "checks_yd       = 'https://disk.yandex.ru/d/pH1q-VqcxXjsVA'          \n",
    "\n",
    "#функция для скачивания \n",
    "\n",
    "def get_yd(public_key: str) -> str:\n",
    "\n",
    "    base_url = 'https://cloud-api.yandex.net/v1/disk/public/resources/download?'\n",
    "    final_url = base_url + urlencode({'public_key': public_key})\n",
    "    response = requests.get(final_url)\n",
    "    response.raise_for_status()  # выбросит ошибку, если запрос неудачен\n",
    "    download_url = response.json()['href']\n",
    "    \n",
    "    return download_url\n",
    "\n",
    "# Итоговые файлы\n",
    "groups       = pd.read_csv(get_yd(groups_yd), sep=';')\n",
    "groups_add   = pd.read_csv(get_yd(groups_add_yd))\n",
    "active_studs = pd.read_csv(get_yd(active_studs_yd), sep=';')\n",
    "checks       = pd.read_csv(get_yd(checks_yd), sep=';')\n"
   ]
  },
  {
   "cell_type": "markdown",
   "metadata": {},
   "source": [
    "##### 2. EDA по каждому df\n",
    "\n",
    "a. Анализируем данные файла **groups** -  принадлежность пользователя к контрольной или экспериментальной группе (А – контроль, B – целевая группа)"
   ]
  },
  {
   "cell_type": "code",
   "execution_count": 5,
   "metadata": {},
   "outputs": [
    {
     "data": {
      "text/html": [
       "<div>\n",
       "<style scoped>\n",
       "    .dataframe tbody tr th:only-of-type {\n",
       "        vertical-align: middle;\n",
       "    }\n",
       "\n",
       "    .dataframe tbody tr th {\n",
       "        vertical-align: top;\n",
       "    }\n",
       "\n",
       "    .dataframe thead th {\n",
       "        text-align: right;\n",
       "    }\n",
       "</style>\n",
       "<table border=\"1\" class=\"dataframe\">\n",
       "  <thead>\n",
       "    <tr style=\"text-align: right;\">\n",
       "      <th></th>\n",
       "      <th>id</th>\n",
       "      <th>grp</th>\n",
       "    </tr>\n",
       "  </thead>\n",
       "  <tbody>\n",
       "    <tr>\n",
       "      <th>0</th>\n",
       "      <td>1489</td>\n",
       "      <td>B</td>\n",
       "    </tr>\n",
       "    <tr>\n",
       "      <th>1</th>\n",
       "      <td>1627</td>\n",
       "      <td>A</td>\n",
       "    </tr>\n",
       "    <tr>\n",
       "      <th>2</th>\n",
       "      <td>1768</td>\n",
       "      <td>B</td>\n",
       "    </tr>\n",
       "    <tr>\n",
       "      <th>3</th>\n",
       "      <td>1783</td>\n",
       "      <td>B</td>\n",
       "    </tr>\n",
       "    <tr>\n",
       "      <th>4</th>\n",
       "      <td>1794</td>\n",
       "      <td>A</td>\n",
       "    </tr>\n",
       "  </tbody>\n",
       "</table>\n",
       "</div>"
      ],
      "text/plain": [
       "     id grp\n",
       "0  1489   B\n",
       "1  1627   A\n",
       "2  1768   B\n",
       "3  1783   B\n",
       "4  1794   A"
      ]
     },
     "execution_count": 5,
     "metadata": {},
     "output_type": "execute_result"
    }
   ],
   "source": [
    "#посмотрим на df первые 5 строк\n",
    "groups.head(5)"
   ]
  },
  {
   "cell_type": "code",
   "execution_count": 6,
   "metadata": {},
   "outputs": [
    {
     "data": {
      "text/html": [
       "<div>\n",
       "<style scoped>\n",
       "    .dataframe tbody tr th:only-of-type {\n",
       "        vertical-align: middle;\n",
       "    }\n",
       "\n",
       "    .dataframe tbody tr th {\n",
       "        vertical-align: top;\n",
       "    }\n",
       "\n",
       "    .dataframe thead th {\n",
       "        text-align: right;\n",
       "    }\n",
       "</style>\n",
       "<table border=\"1\" class=\"dataframe\">\n",
       "  <thead>\n",
       "    <tr style=\"text-align: right;\">\n",
       "      <th></th>\n",
       "      <th>id</th>\n",
       "      <th>grp</th>\n",
       "    </tr>\n",
       "  </thead>\n",
       "  <tbody>\n",
       "    <tr>\n",
       "      <th>74479</th>\n",
       "      <td>5692459</td>\n",
       "      <td>B</td>\n",
       "    </tr>\n",
       "    <tr>\n",
       "      <th>74480</th>\n",
       "      <td>5692572</td>\n",
       "      <td>B</td>\n",
       "    </tr>\n",
       "    <tr>\n",
       "      <th>74481</th>\n",
       "      <td>5692865</td>\n",
       "      <td>B</td>\n",
       "    </tr>\n",
       "    <tr>\n",
       "      <th>74482</th>\n",
       "      <td>5693667</td>\n",
       "      <td>B</td>\n",
       "    </tr>\n",
       "    <tr>\n",
       "      <th>74483</th>\n",
       "      <td>5694419</td>\n",
       "      <td>B</td>\n",
       "    </tr>\n",
       "  </tbody>\n",
       "</table>\n",
       "</div>"
      ],
      "text/plain": [
       "            id grp\n",
       "74479  5692459   B\n",
       "74480  5692572   B\n",
       "74481  5692865   B\n",
       "74482  5693667   B\n",
       "74483  5694419   B"
      ]
     },
     "execution_count": 6,
     "metadata": {},
     "output_type": "execute_result"
    }
   ],
   "source": [
    "#посмотрим на df последние 5 строк\n",
    "groups.tail()"
   ]
  },
  {
   "cell_type": "code",
   "execution_count": 7,
   "metadata": {},
   "outputs": [
    {
     "name": "stdout",
     "output_type": "stream",
     "text": [
      "=== Тип данных ===\n",
      "id      int64\n",
      "grp    object\n",
      "dtype: object\n",
      "\n",
      "=== Размер ===\n",
      "(74484, 2)\n",
      "\n",
      "=== Пропуски ===\n",
      "id     0\n",
      "grp    0\n",
      "dtype: int64\n",
      "\n",
      "=== Дубликаты ===\n",
      "Всего дубликатов: 0\n"
     ]
    }
   ],
   "source": [
    "#проверка пропусков и дубликатов \n",
    "\n",
    "def check_data(groups):\n",
    "    \n",
    "    print(\"=== Тип данных ===\")\n",
    "    print(groups.dtypes) \n",
    "    \n",
    "    print(\"\\n=== Размер ===\")\n",
    "    print(groups.shape)\n",
    "    \n",
    "    print(\"\\n=== Пропуски ===\")\n",
    "    print(groups.isna().sum())\n",
    "    \n",
    "    print(\"\\n=== Дубликаты ===\")\n",
    "    print(f\"Всего дубликатов: {groups.duplicated().sum()}\")\n",
    "    \n",
    "check_data(groups)"
   ]
  },
  {
   "cell_type": "code",
   "execution_count": 8,
   "metadata": {},
   "outputs": [
    {
     "data": {
      "text/plain": [
       "grp\n",
       "A    14671\n",
       "B    59813\n",
       "Name: id, dtype: int64"
      ]
     },
     "execution_count": 8,
     "metadata": {},
     "output_type": "execute_result"
    }
   ],
   "source": [
    "#кол-во в разрезе групп\n",
    "groups.groupby('grp')['id'].count()"
   ]
  },
  {
   "cell_type": "markdown",
   "metadata": {},
   "source": [
    "b. Анализируем данные **groups_add** - файл с пользователями, который вам прислали спустя 2 дня после передачи данных"
   ]
  },
  {
   "cell_type": "code",
   "execution_count": 9,
   "metadata": {},
   "outputs": [
    {
     "data": {
      "text/html": [
       "<div>\n",
       "<style scoped>\n",
       "    .dataframe tbody tr th:only-of-type {\n",
       "        vertical-align: middle;\n",
       "    }\n",
       "\n",
       "    .dataframe tbody tr th {\n",
       "        vertical-align: top;\n",
       "    }\n",
       "\n",
       "    .dataframe thead th {\n",
       "        text-align: right;\n",
       "    }\n",
       "</style>\n",
       "<table border=\"1\" class=\"dataframe\">\n",
       "  <thead>\n",
       "    <tr style=\"text-align: right;\">\n",
       "      <th></th>\n",
       "      <th>id</th>\n",
       "      <th>grp</th>\n",
       "    </tr>\n",
       "  </thead>\n",
       "  <tbody>\n",
       "    <tr>\n",
       "      <th>0</th>\n",
       "      <td>5694584</td>\n",
       "      <td>B</td>\n",
       "    </tr>\n",
       "    <tr>\n",
       "      <th>1</th>\n",
       "      <td>5694830</td>\n",
       "      <td>B</td>\n",
       "    </tr>\n",
       "    <tr>\n",
       "      <th>2</th>\n",
       "      <td>5695057</td>\n",
       "      <td>B</td>\n",
       "    </tr>\n",
       "    <tr>\n",
       "      <th>3</th>\n",
       "      <td>5698872</td>\n",
       "      <td>B</td>\n",
       "    </tr>\n",
       "    <tr>\n",
       "      <th>4</th>\n",
       "      <td>5699067</td>\n",
       "      <td>B</td>\n",
       "    </tr>\n",
       "  </tbody>\n",
       "</table>\n",
       "</div>"
      ],
      "text/plain": [
       "        id grp\n",
       "0  5694584   B\n",
       "1  5694830   B\n",
       "2  5695057   B\n",
       "3  5698872   B\n",
       "4  5699067   B"
      ]
     },
     "execution_count": 9,
     "metadata": {},
     "output_type": "execute_result"
    }
   ],
   "source": [
    "#посмотрим на df первые 5 строк\n",
    "groups_add.head(5)"
   ]
  },
  {
   "cell_type": "code",
   "execution_count": 10,
   "metadata": {},
   "outputs": [
    {
     "data": {
      "text/html": [
       "<div>\n",
       "<style scoped>\n",
       "    .dataframe tbody tr th:only-of-type {\n",
       "        vertical-align: middle;\n",
       "    }\n",
       "\n",
       "    .dataframe tbody tr th {\n",
       "        vertical-align: top;\n",
       "    }\n",
       "\n",
       "    .dataframe thead th {\n",
       "        text-align: right;\n",
       "    }\n",
       "</style>\n",
       "<table border=\"1\" class=\"dataframe\">\n",
       "  <thead>\n",
       "    <tr style=\"text-align: right;\">\n",
       "      <th></th>\n",
       "      <th>id</th>\n",
       "      <th>grp</th>\n",
       "    </tr>\n",
       "  </thead>\n",
       "  <tbody>\n",
       "    <tr>\n",
       "      <th>87</th>\n",
       "      <td>200247820</td>\n",
       "      <td>B</td>\n",
       "    </tr>\n",
       "    <tr>\n",
       "      <th>88</th>\n",
       "      <td>201032527</td>\n",
       "      <td>B</td>\n",
       "    </tr>\n",
       "    <tr>\n",
       "      <th>89</th>\n",
       "      <td>201067612</td>\n",
       "      <td>B</td>\n",
       "    </tr>\n",
       "    <tr>\n",
       "      <th>90</th>\n",
       "      <td>201067653</td>\n",
       "      <td>B</td>\n",
       "    </tr>\n",
       "    <tr>\n",
       "      <th>91</th>\n",
       "      <td>201067659</td>\n",
       "      <td>B</td>\n",
       "    </tr>\n",
       "  </tbody>\n",
       "</table>\n",
       "</div>"
      ],
      "text/plain": [
       "           id grp\n",
       "87  200247820   B\n",
       "88  201032527   B\n",
       "89  201067612   B\n",
       "90  201067653   B\n",
       "91  201067659   B"
      ]
     },
     "execution_count": 10,
     "metadata": {},
     "output_type": "execute_result"
    }
   ],
   "source": [
    "#посмотрим на df последние 5 строк\n",
    "groups_add.tail()"
   ]
  },
  {
   "cell_type": "code",
   "execution_count": 11,
   "metadata": {},
   "outputs": [
    {
     "name": "stdout",
     "output_type": "stream",
     "text": [
      "=== Тип данных ===\n",
      "id      int64\n",
      "grp    object\n",
      "dtype: object\n",
      "\n",
      "=== Размер ===\n",
      "(92, 2)\n",
      "\n",
      "=== Пропуски ===\n",
      "id     0\n",
      "grp    0\n",
      "dtype: int64\n",
      "\n",
      "=== Дубликаты ===\n",
      "Всего дубликатов: 0\n"
     ]
    }
   ],
   "source": [
    "#проверка типа данных, размера, пропусков и дубликатов \n",
    "\n",
    "def check_data(groups_add):\n",
    "    \n",
    "    print(\"=== Тип данных ===\")\n",
    "    print(groups_add.dtypes) \n",
    "    \n",
    "    print(\"\\n=== Размер ===\")\n",
    "    print(groups_add.shape)\n",
    "    \n",
    "    print(\"\\n=== Пропуски ===\")\n",
    "    print(groups_add.isna().sum())\n",
    "    \n",
    "    print(\"\\n=== Дубликаты ===\")\n",
    "    print(f\"Всего дубликатов: {groups_add.duplicated().sum()}\")\n",
    "    \n",
    "check_data(groups_add)"
   ]
  },
  {
   "cell_type": "code",
   "execution_count": 12,
   "metadata": {},
   "outputs": [
    {
     "data": {
      "text/plain": [
       "grp\n",
       "A    22\n",
       "B    70\n",
       "Name: id, dtype: int64"
      ]
     },
     "execution_count": 12,
     "metadata": {},
     "output_type": "execute_result"
    }
   ],
   "source": [
    "#кол-во в разрезе групп\n",
    "groups_add.groupby('grp')['id'].count()"
   ]
  },
  {
   "cell_type": "markdown",
   "metadata": {},
   "source": [
    "c. Анализируем данные файла **active_studs** -  пользователи, которые зашли на платформу в дни проведения эксперимента. "
   ]
  },
  {
   "cell_type": "code",
   "execution_count": 13,
   "metadata": {},
   "outputs": [
    {
     "data": {
      "text/html": [
       "<div>\n",
       "<style scoped>\n",
       "    .dataframe tbody tr th:only-of-type {\n",
       "        vertical-align: middle;\n",
       "    }\n",
       "\n",
       "    .dataframe tbody tr th {\n",
       "        vertical-align: top;\n",
       "    }\n",
       "\n",
       "    .dataframe thead th {\n",
       "        text-align: right;\n",
       "    }\n",
       "</style>\n",
       "<table border=\"1\" class=\"dataframe\">\n",
       "  <thead>\n",
       "    <tr style=\"text-align: right;\">\n",
       "      <th></th>\n",
       "      <th>student_id</th>\n",
       "    </tr>\n",
       "  </thead>\n",
       "  <tbody>\n",
       "    <tr>\n",
       "      <th>0</th>\n",
       "      <td>581585</td>\n",
       "    </tr>\n",
       "    <tr>\n",
       "      <th>1</th>\n",
       "      <td>5723133</td>\n",
       "    </tr>\n",
       "    <tr>\n",
       "      <th>2</th>\n",
       "      <td>3276743</td>\n",
       "    </tr>\n",
       "    <tr>\n",
       "      <th>3</th>\n",
       "      <td>4238589</td>\n",
       "    </tr>\n",
       "    <tr>\n",
       "      <th>4</th>\n",
       "      <td>4475369</td>\n",
       "    </tr>\n",
       "  </tbody>\n",
       "</table>\n",
       "</div>"
      ],
      "text/plain": [
       "   student_id\n",
       "0      581585\n",
       "1     5723133\n",
       "2     3276743\n",
       "3     4238589\n",
       "4     4475369"
      ]
     },
     "execution_count": 13,
     "metadata": {},
     "output_type": "execute_result"
    }
   ],
   "source": [
    "#посмотрим на df первые 5 строк\n",
    "active_studs.head(5)"
   ]
  },
  {
   "cell_type": "code",
   "execution_count": 14,
   "metadata": {},
   "outputs": [
    {
     "data": {
      "text/html": [
       "<div>\n",
       "<style scoped>\n",
       "    .dataframe tbody tr th:only-of-type {\n",
       "        vertical-align: middle;\n",
       "    }\n",
       "\n",
       "    .dataframe tbody tr th {\n",
       "        vertical-align: top;\n",
       "    }\n",
       "\n",
       "    .dataframe thead th {\n",
       "        text-align: right;\n",
       "    }\n",
       "</style>\n",
       "<table border=\"1\" class=\"dataframe\">\n",
       "  <thead>\n",
       "    <tr style=\"text-align: right;\">\n",
       "      <th></th>\n",
       "      <th>student_id</th>\n",
       "    </tr>\n",
       "  </thead>\n",
       "  <tbody>\n",
       "    <tr>\n",
       "      <th>8336</th>\n",
       "      <td>1794344</td>\n",
       "    </tr>\n",
       "    <tr>\n",
       "      <th>8337</th>\n",
       "      <td>296883</td>\n",
       "    </tr>\n",
       "    <tr>\n",
       "      <th>8338</th>\n",
       "      <td>3598448</td>\n",
       "    </tr>\n",
       "    <tr>\n",
       "      <th>8339</th>\n",
       "      <td>3610547</td>\n",
       "    </tr>\n",
       "    <tr>\n",
       "      <th>8340</th>\n",
       "      <td>205705</td>\n",
       "    </tr>\n",
       "  </tbody>\n",
       "</table>\n",
       "</div>"
      ],
      "text/plain": [
       "      student_id\n",
       "8336     1794344\n",
       "8337      296883\n",
       "8338     3598448\n",
       "8339     3610547\n",
       "8340      205705"
      ]
     },
     "execution_count": 14,
     "metadata": {},
     "output_type": "execute_result"
    }
   ],
   "source": [
    "#посмотрим на df последние 5 строк\n",
    "active_studs.tail()"
   ]
  },
  {
   "cell_type": "code",
   "execution_count": 15,
   "metadata": {},
   "outputs": [
    {
     "name": "stdout",
     "output_type": "stream",
     "text": [
      "=== Тип данных ===\n",
      "student_id    int64\n",
      "dtype: object\n",
      "\n",
      "=== Размер ===\n",
      "(8341, 1)\n",
      "\n",
      "=== Пропуски ===\n",
      "student_id    0\n",
      "dtype: int64\n",
      "\n",
      "=== Дубликаты ===\n",
      "Всего дубликатов: 0\n"
     ]
    }
   ],
   "source": [
    "#проверка типа данных, размера, пропусков и дубликатов \n",
    "\n",
    "def check_data(active_studs):\n",
    "    \n",
    "    print(\"=== Тип данных ===\")\n",
    "    print(active_studs.dtypes) \n",
    "    \n",
    "    print(\"\\n=== Размер ===\")\n",
    "    print(active_studs.shape)\n",
    "    \n",
    "    print(\"\\n=== Пропуски ===\")\n",
    "    print(active_studs.isna().sum())\n",
    "    \n",
    "    print(\"\\n=== Дубликаты ===\")\n",
    "    print(f\"Всего дубликатов: {active_studs.duplicated().sum()}\")\n",
    "    \n",
    "check_data(active_studs)"
   ]
  },
  {
   "cell_type": "markdown",
   "metadata": {},
   "source": [
    "d. Анализируем данные **checks** - файл с информацией об оплатах пользователей в дни проведения эксперимента"
   ]
  },
  {
   "cell_type": "code",
   "execution_count": 16,
   "metadata": {},
   "outputs": [
    {
     "data": {
      "text/html": [
       "<div>\n",
       "<style scoped>\n",
       "    .dataframe tbody tr th:only-of-type {\n",
       "        vertical-align: middle;\n",
       "    }\n",
       "\n",
       "    .dataframe tbody tr th {\n",
       "        vertical-align: top;\n",
       "    }\n",
       "\n",
       "    .dataframe thead th {\n",
       "        text-align: right;\n",
       "    }\n",
       "</style>\n",
       "<table border=\"1\" class=\"dataframe\">\n",
       "  <thead>\n",
       "    <tr style=\"text-align: right;\">\n",
       "      <th></th>\n",
       "      <th>student_id</th>\n",
       "      <th>rev</th>\n",
       "    </tr>\n",
       "  </thead>\n",
       "  <tbody>\n",
       "    <tr>\n",
       "      <th>0</th>\n",
       "      <td>1627</td>\n",
       "      <td>990.0</td>\n",
       "    </tr>\n",
       "    <tr>\n",
       "      <th>1</th>\n",
       "      <td>3185</td>\n",
       "      <td>690.0</td>\n",
       "    </tr>\n",
       "    <tr>\n",
       "      <th>2</th>\n",
       "      <td>25973</td>\n",
       "      <td>690.0</td>\n",
       "    </tr>\n",
       "    <tr>\n",
       "      <th>3</th>\n",
       "      <td>26280</td>\n",
       "      <td>690.0</td>\n",
       "    </tr>\n",
       "    <tr>\n",
       "      <th>4</th>\n",
       "      <td>100300</td>\n",
       "      <td>990.0</td>\n",
       "    </tr>\n",
       "  </tbody>\n",
       "</table>\n",
       "</div>"
      ],
      "text/plain": [
       "   student_id    rev\n",
       "0        1627  990.0\n",
       "1        3185  690.0\n",
       "2       25973  690.0\n",
       "3       26280  690.0\n",
       "4      100300  990.0"
      ]
     },
     "execution_count": 16,
     "metadata": {},
     "output_type": "execute_result"
    }
   ],
   "source": [
    "#посмотрим на df первые 5 строк\n",
    "checks.head(5)"
   ]
  },
  {
   "cell_type": "code",
   "execution_count": 17,
   "metadata": {},
   "outputs": [
    {
     "data": {
      "text/html": [
       "<div>\n",
       "<style scoped>\n",
       "    .dataframe tbody tr th:only-of-type {\n",
       "        vertical-align: middle;\n",
       "    }\n",
       "\n",
       "    .dataframe tbody tr th {\n",
       "        vertical-align: top;\n",
       "    }\n",
       "\n",
       "    .dataframe thead th {\n",
       "        text-align: right;\n",
       "    }\n",
       "</style>\n",
       "<table border=\"1\" class=\"dataframe\">\n",
       "  <thead>\n",
       "    <tr style=\"text-align: right;\">\n",
       "      <th></th>\n",
       "      <th>student_id</th>\n",
       "      <th>rev</th>\n",
       "    </tr>\n",
       "  </thead>\n",
       "  <tbody>\n",
       "    <tr>\n",
       "      <th>536</th>\n",
       "      <td>5645737</td>\n",
       "      <td>1900.0</td>\n",
       "    </tr>\n",
       "    <tr>\n",
       "      <th>537</th>\n",
       "      <td>5651566</td>\n",
       "      <td>1900.0</td>\n",
       "    </tr>\n",
       "    <tr>\n",
       "      <th>538</th>\n",
       "      <td>5662322</td>\n",
       "      <td>1900.0</td>\n",
       "    </tr>\n",
       "    <tr>\n",
       "      <th>539</th>\n",
       "      <td>5681918</td>\n",
       "      <td>1900.0</td>\n",
       "    </tr>\n",
       "    <tr>\n",
       "      <th>540</th>\n",
       "      <td>5740903</td>\n",
       "      <td>1900.0</td>\n",
       "    </tr>\n",
       "  </tbody>\n",
       "</table>\n",
       "</div>"
      ],
      "text/plain": [
       "     student_id     rev\n",
       "536     5645737  1900.0\n",
       "537     5651566  1900.0\n",
       "538     5662322  1900.0\n",
       "539     5681918  1900.0\n",
       "540     5740903  1900.0"
      ]
     },
     "execution_count": 17,
     "metadata": {},
     "output_type": "execute_result"
    }
   ],
   "source": [
    "#посмотрим на df последние 5 строк\n",
    "checks.tail()"
   ]
  },
  {
   "cell_type": "code",
   "execution_count": 18,
   "metadata": {},
   "outputs": [
    {
     "name": "stdout",
     "output_type": "stream",
     "text": [
      "=== Тип данных ===\n",
      "student_id      int64\n",
      "rev           float64\n",
      "dtype: object\n",
      "\n",
      "=== Размер ===\n",
      "(541, 2)\n",
      "\n",
      "=== Пропуски ===\n",
      "student_id    0\n",
      "rev           0\n",
      "dtype: int64\n",
      "\n",
      "=== Дубликаты ===\n",
      "Всего дубликатов: 0\n"
     ]
    }
   ],
   "source": [
    "#проверка типа данных, размера, пропусков и дубликатов \n",
    "\n",
    "def check_data(checks):\n",
    "    \n",
    "    print(\"=== Тип данных ===\")\n",
    "    print(checks.dtypes) \n",
    "    \n",
    "    print(\"\\n=== Размер ===\")\n",
    "    print(checks.shape)\n",
    "    \n",
    "    print(\"\\n=== Пропуски ===\")\n",
    "    print(checks.isna().sum())\n",
    "    \n",
    "    print(\"\\n=== Дубликаты ===\")\n",
    "    print(f\"Всего дубликатов: {checks.duplicated().sum()}\")\n",
    "    \n",
    "check_data(checks)"
   ]
  },
  {
   "cell_type": "markdown",
   "metadata": {},
   "source": [
    "Есть группа А контрольная и B тестовая. Размерность в группах разная. Проверим дальше. Дублей нет, пустых тоже. Названия в файлах отличается."
   ]
  },
  {
   "cell_type": "markdown",
   "metadata": {},
   "source": [
    "##### 3. Объединяем датафреймы, заменяем пустые значения для дальнейших расчетов\n"
   ]
  },
  {
   "cell_type": "code",
   "execution_count": 19,
   "metadata": {},
   "outputs": [],
   "source": [
    "#добавляем в df groups данные с groups_add\n",
    "groups_all = pd.concat([groups, groups_add])\n",
    "# кол-во строк groups - 74484, groups_add - 92  =groups_all - 74576 - ничего не потеряли"
   ]
  },
  {
   "cell_type": "code",
   "execution_count": 20,
   "metadata": {},
   "outputs": [],
   "source": [
    "#объединяем groups_all с active_studs для добавления инфо об активных пользователях(те, кто зашли в дни эксперимента)\n",
    "df_all_activ = pd.merge(groups_all,  active_studs, left_on='id', right_on='student_id', how='left')\n",
    "\n",
    "#объединяем новый df с checks для добавления инфо об оплатах пользователях(те, кто оплатил в дни эксперимента)\n",
    "df = pd.merge(df_all_activ, checks, left_on='id', right_on='student_id', how='left')\n",
    "\n",
    "#переименуем столбцы \n",
    "df = df.rename(columns={'grp': 'group',\n",
    "                        'student_id_x': 'active_stud',\n",
    "                        'student_id_y': 'pay_stud',\n",
    "                        'rev': 'payment'}) "
   ]
  },
  {
   "cell_type": "markdown",
   "metadata": {},
   "source": [
    "Замена пустых значений"
   ]
  },
  {
   "cell_type": "code",
   "execution_count": 21,
   "metadata": {},
   "outputs": [],
   "source": [
    "#заменим пустые на 0; а ячейки, где указаны id студента заменим на 1. Тобиш активный юзер=1, неактивный=0\n",
    "df['active_stud'] = df['active_stud'].notna().astype(int)\n",
    "\n",
    "#аналогично для столбца pay_stud (платящий=1, неплатящий=0)\n",
    "df['pay_stud'] = df['pay_stud'].notna().astype(int)\n",
    "\n",
    "#заполним пропуски нулями, но при расчетах будем иметь ввиду, т.к. тут значения\n",
    "df['payment'] = df['payment'].fillna(0) "
   ]
  },
  {
   "cell_type": "markdown",
   "metadata": {},
   "source": [
    "Проверка на аномалии в данных"
   ]
  },
  {
   "cell_type": "code",
   "execution_count": 22,
   "metadata": {},
   "outputs": [
    {
     "data": {
      "text/plain": [
       "(149, 5)"
      ]
     },
     "execution_count": 22,
     "metadata": {},
     "output_type": "execute_result"
    }
   ],
   "source": [
    "#проверим на то, есть ли неактиные пользователи среди оплативших\n",
    "\n",
    "unactiv_pay_stud = df.query('pay_stud == 1 and active_stud == 0')\n",
    "unactiv_pay_stud.shape"
   ]
  },
  {
   "cell_type": "markdown",
   "metadata": {},
   "source": [
    "Найдено 149 пользователей, которые платили, но не не были активны во время эксперимента. Мы их должны исключить, так как это не связано с проведением эксперимента."
   ]
  },
  {
   "cell_type": "code",
   "execution_count": 23,
   "metadata": {},
   "outputs": [],
   "source": [
    "#удалим из df 149 пользователей\n",
    "\n",
    "df_cleaned = df[~((df['pay_stud'] == 1) & (df['active_stud'] == 0))]\n",
    "df_cleaned = df"
   ]
  },
  {
   "cell_type": "code",
   "execution_count": 24,
   "metadata": {},
   "outputs": [
    {
     "data": {
      "text/plain": [
       "11.184563398412358"
      ]
     },
     "execution_count": 24,
     "metadata": {},
     "output_type": "execute_result"
    }
   ],
   "source": [
    "#доля активных от всех пользователей\n",
    "df.query(\"active_stud== 1\").id.count() / df.id.count() *100\n"
   ]
  },
  {
   "cell_type": "code",
   "execution_count": 25,
   "metadata": {},
   "outputs": [
    {
     "data": {
      "text/html": [
       "<div>\n",
       "<style scoped>\n",
       "    .dataframe tbody tr th:only-of-type {\n",
       "        vertical-align: middle;\n",
       "    }\n",
       "\n",
       "    .dataframe tbody tr th {\n",
       "        vertical-align: top;\n",
       "    }\n",
       "\n",
       "    .dataframe thead th {\n",
       "        text-align: right;\n",
       "    }\n",
       "</style>\n",
       "<table border=\"1\" class=\"dataframe\">\n",
       "  <thead>\n",
       "    <tr style=\"text-align: right;\">\n",
       "      <th></th>\n",
       "      <th>id</th>\n",
       "      <th>group</th>\n",
       "      <th>active_stud</th>\n",
       "      <th>pay_stud</th>\n",
       "      <th>payment</th>\n",
       "    </tr>\n",
       "  </thead>\n",
       "  <tbody>\n",
       "    <tr>\n",
       "      <th>1</th>\n",
       "      <td>1627</td>\n",
       "      <td>A</td>\n",
       "      <td>1</td>\n",
       "      <td>1</td>\n",
       "      <td>990.0</td>\n",
       "    </tr>\n",
       "    <tr>\n",
       "      <th>10</th>\n",
       "      <td>2085</td>\n",
       "      <td>B</td>\n",
       "      <td>1</td>\n",
       "      <td>0</td>\n",
       "      <td>0.0</td>\n",
       "    </tr>\n",
       "    <tr>\n",
       "      <th>12</th>\n",
       "      <td>2215</td>\n",
       "      <td>B</td>\n",
       "      <td>1</td>\n",
       "      <td>0</td>\n",
       "      <td>0.0</td>\n",
       "    </tr>\n",
       "    <tr>\n",
       "      <th>43</th>\n",
       "      <td>3391</td>\n",
       "      <td>A</td>\n",
       "      <td>1</td>\n",
       "      <td>0</td>\n",
       "      <td>0.0</td>\n",
       "    </tr>\n",
       "    <tr>\n",
       "      <th>45</th>\n",
       "      <td>3401</td>\n",
       "      <td>B</td>\n",
       "      <td>1</td>\n",
       "      <td>0</td>\n",
       "      <td>0.0</td>\n",
       "    </tr>\n",
       "  </tbody>\n",
       "</table>\n",
       "</div>"
      ],
      "text/plain": [
       "      id group  active_stud  pay_stud  payment\n",
       "1   1627     A            1         1    990.0\n",
       "10  2085     B            1         0      0.0\n",
       "12  2215     B            1         0      0.0\n",
       "43  3391     A            1         0      0.0\n",
       "45  3401     B            1         0      0.0"
      ]
     },
     "execution_count": 25,
     "metadata": {},
     "output_type": "execute_result"
    }
   ],
   "source": [
    "df = df.query(\"active_stud== 1\")\n",
    "df.head()"
   ]
  },
  {
   "cell_type": "markdown",
   "metadata": {},
   "source": [
    "Для расчетов оставим только тех пользователей которые были активны в дни эксперимента, т.к. доля всего лишь 11,2% от всех пользователей"
   ]
  },
  {
   "cell_type": "markdown",
   "metadata": {},
   "source": [
    "Итого предварительные выводы:  \n",
    "    - найденные аномалии удалены  \n",
    "    - количество пользователей в группах разное  \n",
    "    - для расчетов оставим только тех пользователейЮ, которые были активны в дни эксперимента, т.к. доля всего лишь 11,2%"
   ]
  },
  {
   "cell_type": "markdown",
   "metadata": {},
   "source": [
    "## Этап 2. Разделение данных по группам, предварительный анализ и выбор метрик"
   ]
  },
  {
   "cell_type": "markdown",
   "metadata": {},
   "source": [
    "##### 1. Разделим df на группы, посмотрим методом .describe предварительный анализ"
   ]
  },
  {
   "cell_type": "markdown",
   "metadata": {},
   "source": [
    "###### Исследуем Контрольную группу (А)"
   ]
  },
  {
   "cell_type": "code",
   "execution_count": 26,
   "metadata": {},
   "outputs": [],
   "source": [
    "#контрольная группа А\n",
    "group_a = df.query('group == \"A\"').reset_index(drop=True) "
   ]
  },
  {
   "cell_type": "code",
   "execution_count": 27,
   "metadata": {},
   "outputs": [
    {
     "data": {
      "text/plain": [
       "count      78.000000\n",
       "mean      933.589744\n",
       "std       919.932711\n",
       "min       199.000000\n",
       "25%       290.000000\n",
       "50%       585.000000\n",
       "75%      1114.750000\n",
       "max      3660.000000\n",
       "Name: payment, dtype: float64"
      ]
     },
     "execution_count": 27,
     "metadata": {},
     "output_type": "execute_result"
    }
   ],
   "source": [
    "#посмотрим на данные. выбираем только те, где были платежи\n",
    "group_a.query('payment > 0').payment.describe()"
   ]
  },
  {
   "cell_type": "code",
   "execution_count": 28,
   "metadata": {},
   "outputs": [
    {
     "name": "stdout",
     "output_type": "stream",
     "text": [
      "Число выбросов: 9\n"
     ]
    }
   ],
   "source": [
    "#посчитаем кол-во выбросов т.к. медиана = 585, среднее = 933, максимум = 3660 свидетельствует о разбросе данных\n",
    "\n",
    "Q1 = 290.0    # 25%-й перцентиль\n",
    "Q3 = 1114.7    # 75%-й перцентиль\n",
    "IQR = Q3 - Q1  \n",
    "\n",
    "lower_bound = Q1 - 1.5 * IQR  \n",
    "upper_bound = Q3 + 1.5 * IQR   \n",
    "\n",
    "# Число выбросов\n",
    "outliers = group_a[(group_a['payment'] > upper_bound) & (group_a['payment'] > 0)]\n",
    "print(f\"Число выбросов: {len(outliers)}\") "
   ]
  },
  {
   "cell_type": "code",
   "execution_count": 29,
   "metadata": {},
   "outputs": [
    {
     "data": {
      "image/png": "[encoded data removed]",
      "text/plain": [
       "<Figure size 432x288 with 1 Axes>"
      ]
     },
     "metadata": {
      "needs_background": "light"
     },
     "output_type": "display_data"
    }
   ],
   "source": [
    "#построим боксплот\n",
    "sns.boxplot(x=group_a[group_a['payment'] > 0]['payment'])\n",
    "plt.title('Распределение платежей в группе A')\n",
    "plt.show()"
   ]
  },
  {
   "cell_type": "markdown",
   "metadata": {},
   "source": [
    "###### Исследуем Тестовую/Целевую группу (B)"
   ]
  },
  {
   "cell_type": "code",
   "execution_count": 30,
   "metadata": {},
   "outputs": [],
   "source": [
    "#тестовая группа В\n",
    "group_b = df.query('group == \"B\"').reset_index(drop=True) "
   ]
  },
  {
   "cell_type": "code",
   "execution_count": 31,
   "metadata": {},
   "outputs": [
    {
     "data": {
      "text/plain": [
       "count     314.000000\n",
       "mean     1257.878992\n",
       "std       790.864254\n",
       "min       199.000000\n",
       "25%       511.750000\n",
       "50%      1140.000000\n",
       "75%      1900.000000\n",
       "max      4650.000000\n",
       "Name: payment, dtype: float64"
      ]
     },
     "execution_count": 31,
     "metadata": {},
     "output_type": "execute_result"
    }
   ],
   "source": [
    "group_b.query('payment > 0').payment.describe()"
   ]
  },
  {
   "cell_type": "code",
   "execution_count": 32,
   "metadata": {},
   "outputs": [
    {
     "name": "stdout",
     "output_type": "stream",
     "text": [
      "Число выбросов: 1\n"
     ]
    }
   ],
   "source": [
    "Q1_1 = 511.75    # 25%-й перцентиль\n",
    "Q3_1 = 1900.0    # 75%-й перцентиль\n",
    "IQR_1 = Q3_1 - Q1_1 \n",
    "\n",
    "# Границы для выбросов\n",
    "lower_bound_1 = Q1_1 - 1.5 * IQR_1  \n",
    "upper_bound_1 = Q3_1 + 1.5 * IQR_1   \n",
    "\n",
    "# Число выбросов\n",
    "outliers_1 = group_b[(group_b['payment'] > upper_bound_1) & (group_b['payment'] > 0)]\n",
    "print(f\"Число выбросов: {len(outliers_1)}\")  "
   ]
  },
  {
   "cell_type": "code",
   "execution_count": 33,
   "metadata": {},
   "outputs": [
    {
     "data": {
      "image/png": "[encoded data removed]",
      "text/plain": [
       "<Figure size 432x288 with 1 Axes>"
      ]
     },
     "metadata": {
      "needs_background": "light"
     },
     "output_type": "display_data"
    }
   ],
   "source": [
    "sns.boxplot(x=group_b[group_b['payment'] > 0]['payment'])\n",
    "plt.title('Распределение платежей в группе B')\n",
    "plt.show()"
   ]
  },
  {
   "cell_type": "markdown",
   "metadata": {},
   "source": [
    "Итого: \n",
    "- Тестовая группа B платит больше: Медиана увеличилась в 2 раза, средний чек выше на 35%\n",
    "\n",
    "- Платежи в группе B стабильнее: Меньший разброс (стандартное отклонение в тестовой =919 vs 790(в контрольной)). Более высокие 25%-й и 75%-й перцентили — в группе (В) существенно выше.\n",
    "\n",
    "- Выбросы есть в обеих группах: Максимальные платежи: 3660 руб. (A) vs 4650 руб. (B). Но в группе (B) 75%-й перцентиль уже 1900 руб. (против 1114 руб. в A) — значит, крупные платежи не единичны."
   ]
  },
  {
   "cell_type": "markdown",
   "metadata": {},
   "source": [
    "##### 2. Выбор метрик и расчет"
   ]
  },
  {
   "cell_type": "markdown",
   "metadata": {},
   "source": [
    "1. **ARPPU** (Average Revenue Per Paying Use) - средний доход на одного **платящего** пользователя. Используется для оценки дохода, получаемого от пользователей, совершающие покупки. Применятся, когда важно понять, сколько денег приносит каждый платящий пользователь.\n",
    "Является продуктовой метрикой, а не метрикой роста. Её можно посчитать. Она интерпретируемая: увеличив число платящих пользователей, мы сможем увидеть эффект в среднем доходе в сегменте платящих пользователей. Она чувствительна: среднее хорошо отражает изменения."
   ]
  },
  {
   "cell_type": "code",
   "execution_count": 34,
   "metadata": {},
   "outputs": [
    {
     "name": "stdout",
     "output_type": "stream",
     "text": [
      "ARPPU по контрольной группе: 933.5897435897435\n"
     ]
    }
   ],
   "source": [
    "#считаем общий доход от платящих пользователей по **контрольной группе**\n",
    "total_payment_a  = group_a.query('pay_stud == 1').payment.sum()\n",
    "\n",
    "#считаем кол-во платящих пользователей\n",
    "total_pay_stud_a = group_a.query('pay_stud == 1').pay_stud.sum()\n",
    "\n",
    "arppu_group_a    = total_payment_a / total_pay_stud_a\n",
    "print(f\"ARPPU по контрольной группе: {arppu_group_a}\")"
   ]
  },
  {
   "cell_type": "code",
   "execution_count": 35,
   "metadata": {},
   "outputs": [
    {
     "name": "stdout",
     "output_type": "stream",
     "text": [
      "ARPPU по тестовой группе: 1257.8789920382164\n"
     ]
    }
   ],
   "source": [
    "# аналогичный расчет ARPPU по **тестовой группе**\n",
    "total_payment_b   = group_b.query('pay_stud == 1').payment.sum() #доход\n",
    "total_pay_stud_b  = group_b.query('pay_stud == 1').pay_stud.sum() #кол -во\n",
    "arppu_group_b     = total_payment_b / total_pay_stud_b\n",
    "\n",
    "print(f\"ARPPU по тестовой группе: {arppu_group_b}\")"
   ]
  },
  {
   "cell_type": "markdown",
   "metadata": {},
   "source": [
    "2. **Конверсия в оплату** - процент пользователей, совершивших хотя бы одну оплату от общего числа активных пользователей. Берем эту метрику, т.к. основная цель изменения - увеличить количество оплат. Также является продуктовой метрикой, а не метрикой роста. Подходит по всем свойствам(достоверность, интерпретируемость, чувствительность). Её легко посчитать. Наше изменение направлено на увеличение конверсии. Метрика чувствительна: конверсионные метрики хорошо реагируют на изменения и подходят для экспериментов."
   ]
  },
  {
   "cell_type": "code",
   "execution_count": 36,
   "metadata": {},
   "outputs": [
    {
     "name": "stdout",
     "output_type": "stream",
     "text": [
      "Конверсия в оплату по контрольной группе: 5.071521456436931\n"
     ]
    }
   ],
   "source": [
    "#общее кол-во активных пользователей в **контрольной группе**\n",
    "total_active_stud_a  = group_a.query('active_stud == 1').active_stud.sum()\n",
    "\n",
    "# Конверсия в оплату\n",
    "conversation_group_a = total_pay_stud_a / total_active_stud_a * 100\n",
    "\n",
    "print(f\"Конверсия в оплату по контрольной группе: {conversation_group_a}\")"
   ]
  },
  {
   "cell_type": "code",
   "execution_count": 37,
   "metadata": {},
   "outputs": [
    {
     "name": "stdout",
     "output_type": "stream",
     "text": [
      "Конверсия в оплату по тестовой группе: 4.615610759958842\n"
     ]
    }
   ],
   "source": [
    "#аналогичный расчет конверсии в оплату в **тестовой группе**\n",
    "total_active_stud_b  = group_b.query('active_stud == 1').active_stud.sum()\n",
    "conversation_group_b = total_pay_stud_b / total_active_stud_b * 100\n",
    "\n",
    "print(f\"Конверсия в оплату по тестовой группе: {conversation_group_b}\")"
   ]
  },
  {
   "cell_type": "markdown",
   "metadata": {},
   "source": [
    "3. **ARPU** (Average Revenue Per Use)- средний доход на всех пользователей."
   ]
  },
  {
   "cell_type": "code",
   "execution_count": 38,
   "metadata": {},
   "outputs": [
    {
     "name": "stdout",
     "output_type": "stream",
     "text": [
      "ARPPU по контрольной группе: 47.34720416124838\n"
     ]
    }
   ],
   "source": [
    "#общий доход  по **контрольной группе** ранее считали =total_payment_a\n",
    "\n",
    "#считаем кол-во всех пользователей\n",
    "total_stud_a= group_a.active_stud.sum()\n",
    "\n",
    "arpu_group_a = total_payment_a / total_stud_a\n",
    "\n",
    "print(f\"ARPPU по контрольной группе: {arpu_group_a}\")"
   ]
  },
  {
   "cell_type": "code",
   "execution_count": 39,
   "metadata": {},
   "outputs": [
    {
     "name": "stdout",
     "output_type": "stream",
     "text": [
      "ARPPU по контрольной группе: 58.05879810377775\n"
     ]
    }
   ],
   "source": [
    "#общий доход  по **тестовой группе** ранее считали =total_payment_b\n",
    "\n",
    "#считаем кол-во всех пользователей\n",
    "total_stud_b = group_b.active_stud.sum()\n",
    "\n",
    "arpu_group_b = total_payment_b / total_stud_b\n",
    "\n",
    "print(f\"ARPPU по контрольной группе: {arpu_group_b}\")"
   ]
  },
  {
   "cell_type": "markdown",
   "metadata": {},
   "source": [
    "Сравнение данных по метрикам"
   ]
  },
  {
   "cell_type": "code",
   "execution_count": 40,
   "metadata": {},
   "outputs": [
    {
     "name": "stdout",
     "output_type": "stream",
     "text": [
      "     Метрики  Группа A - контрольная   Группа B - тестовая  Difference (B - A)\n",
      "0      ARPPU               933.589744          1257.878992          324.289248\n",
      "1       ARPU                47.347204            58.058798           10.711594\n",
      "2  Конверсия                 5.071521             4.615611           -0.455911\n"
     ]
    }
   ],
   "source": [
    "metrics = pd.DataFrame({\n",
    "    'Метрики': ['ARPPU', 'ARPU', 'Конверсия'],\n",
    "    'Группа A - контрольная ': [arppu_group_a, arpu_group_a, conversation_group_a],\n",
    "    'Группа B - тестовая':     [arppu_group_b, arpu_group_b, conversation_group_b],\n",
    "    'Difference (B - A)':      [arppu_group_b - arppu_group_a,\n",
    "                                arpu_group_b - arpu_group_a,\n",
    "                                conversation_group_b - conversation_group_a]\n",
    "})\n",
    "print(metrics)"
   ]
  },
  {
   "cell_type": "markdown",
   "metadata": {},
   "source": [
    "Итог по метрикам:  \n",
    " - ARPPU (средний доход на одного платящего пользователя) и ARPU (средний доход от всех активных пользователей) в тестовой группе оказался выше, чем в контрольной.\n",
    " - Конверсия в оплату среди активных пользователей в контрольной оказался выше.  \n",
    " \n",
    " Для принятия решения о принятии/отказе от новой механики оплаты проанализируем метрики (ARPPU и конверсию в оплату)."
   ]
  },
  {
   "cell_type": "markdown",
   "metadata": {},
   "source": [
    "## Этап 3. A/B - тест "
   ]
  },
  {
   "cell_type": "markdown",
   "metadata": {},
   "source": [
    "### ARPPU"
   ]
  },
  {
   "cell_type": "markdown",
   "metadata": {},
   "source": [
    "##### 1. Проверка на нормальность распределения  \n",
    "H_0: ГС, из которой взята эта выборка, распределена нормально   \n",
    "H_1: ГС, из которой взята эта выборка, распределена не нормально"
   ]
  },
  {
   "cell_type": "code",
   "execution_count": 41,
   "metadata": {},
   "outputs": [
    {
     "data": {
      "text/plain": [
       "NormaltestResult(statistic=30.378419638487475, pvalue=2.5316868804220266e-07)"
      ]
     },
     "execution_count": 41,
     "metadata": {},
     "output_type": "execute_result"
    }
   ],
   "source": [
    "#для контрольной группы\n",
    "stats.normaltest(df.query('group == \"A\" and pay_stud == 1').payment)"
   ]
  },
  {
   "cell_type": "code",
   "execution_count": 42,
   "metadata": {},
   "outputs": [
    {
     "data": {
      "text/plain": [
       "NormaltestResult(statistic=6.795662714490353, pvalue=0.033445723194625424)"
      ]
     },
     "execution_count": 42,
     "metadata": {},
     "output_type": "execute_result"
    }
   ],
   "source": [
    "#для тестовой группы\n",
    "stats.normaltest(df.query('group == \"B\" and pay_stud == 1').payment)"
   ]
  },
  {
   "cell_type": "markdown",
   "metadata": {},
   "source": [
    "Распределение ненормальное. В обоих случаях p_value < 0.05."
   ]
  },
  {
   "cell_type": "markdown",
   "metadata": {},
   "source": [
    "##### 2. Проверка на равенство дисперсий  \n",
    "H_0: дисперсии не различаются   \n",
    "H_1: дисперсии различаются"
   ]
  },
  {
   "cell_type": "code",
   "execution_count": 43,
   "metadata": {},
   "outputs": [
    {
     "data": {
      "text/plain": [
       "(3.075681699981606, 0.08025675761347022)"
      ]
     },
     "execution_count": 43,
     "metadata": {},
     "output_type": "execute_result"
    }
   ],
   "source": [
    "payments_a = group_a.query('pay_stud == 1')['payment'].values #контрольная\n",
    "payments_b = group_b.query('pay_stud == 1')['payment'].values #тестовая\n",
    "\n",
    "levene_stat, levene_p_value = stats.levene(payments_a, payments_b)\n",
    "levene_stat, levene_p_value"
   ]
  },
  {
   "cell_type": "markdown",
   "metadata": {},
   "source": [
    "Дисперсии в группах стат.значимо не различаются. p_value > 0.05"
   ]
  },
  {
   "cell_type": "markdown",
   "metadata": {},
   "source": [
    "##### 3. Для сравнения данных выбираем Ttest, так как его нужно использовать при сравнении средних."
   ]
  },
  {
   "cell_type": "markdown",
   "metadata": {},
   "source": [
    " Для начала сформулируем гипотезы для проверки\n",
    "- H0: Средние в контрольной и тестовой группе НЕ отличаются. \n",
    "- H1: Средние в контрольной и тестовой группе отличаются. "
   ]
  },
  {
   "cell_type": "code",
   "execution_count": 44,
   "metadata": {},
   "outputs": [
    {
     "name": "stdout",
     "output_type": "stream",
     "text": [
      "T-статистика: -3.1337795050930985, P-значение: 0.0018562025265765867\n"
     ]
    }
   ],
   "source": [
    "# создаем список с инфо об оплате от платящих пользователей для **контрольной группы**\n",
    "payments_a = group_a.query('pay_stud == 1')['payment'].values\n",
    "payments_b = group_b.query('pay_stud == 1')['payment'].values #тестовая\n",
    "\n",
    "t_statistic, p_value = stats.ttest_ind(payments_a, payments_b)\n",
    "\n",
    "print(f'T-статистика: {t_statistic}, P-значение: {p_value}')"
   ]
  },
  {
   "cell_type": "markdown",
   "metadata": {},
   "source": [
    "P-value (0.0025) < 0.05. Результат **статистически значим** и позволяет отвергнуть нулевую гипотезу о равенстве средних в контрольной и тестовой группе. "
   ]
  },
  {
   "cell_type": "markdown",
   "metadata": {},
   "source": [
    "##### 4. Визуализация"
   ]
  },
  {
   "cell_type": "code",
   "execution_count": 45,
   "metadata": {},
   "outputs": [
    {
     "data": {
      "text/plain": [
       "<matplotlib.axes._subplots.AxesSubplot at 0x7fb44fbbb6a0>"
      ]
     },
     "execution_count": 45,
     "metadata": {},
     "output_type": "execute_result"
    },
    {
     "data": {
      "image/png": "[encoded data removed]",
      "text/plain": [
       "<Figure size 432x288 with 1 Axes>"
      ]
     },
     "metadata": {
      "needs_background": "light"
     },
     "output_type": "display_data"
    }
   ],
   "source": [
    "sns.pointplot(x=\"group\", #название группирующей переменной\n",
    "              y=\"payment\", #название переменной, которую мы сравниваем\n",
    "              data=df, #датафрейм с данными\n",
    "              capsize=0.1) #длина засечек на конце \"усов\" - можно убрать"
   ]
  },
  {
   "cell_type": "markdown",
   "metadata": {},
   "source": [
    "ARPPU в тестовой группе выше, новая механика оплаты лучше, т.к. средний доход на активного платящего пользователя вырос."
   ]
  },
  {
   "cell_type": "markdown",
   "metadata": {},
   "source": [
    "### Конверсия в оплату"
   ]
  },
  {
   "cell_type": "markdown",
   "metadata": {},
   "source": [
    "Используем хи-квадрат, так как данные категориальные\n",
    " \n",
    "- H0: Механикам оплаты не влияет на конверсию в оплату. Доля платящих пользователей в тестовой (B) и контрольной (A) группах одинакова\n",
    "- H1: Механикам оплаты влияет на конверсию в оплату. Доля платящих пользователей в тестовой (B) и контрольной (A) группах НЕ одинакова"
   ]
  },
  {
   "cell_type": "markdown",
   "metadata": {},
   "source": [
    "1. Создадим таблицу сопряженности (будут указаны группы и кол-во пользователей, которые совершили оплату(pay_stud=1),\n",
    "и тех, кто не совершил оплату(pay_stud=0)"
   ]
  },
  {
   "cell_type": "code",
   "execution_count": 46,
   "metadata": {},
   "outputs": [
    {
     "name": "stdout",
     "output_type": "stream",
     "text": [
      "pay_stud     0    1  Итого\n",
      "group                     \n",
      "A         1460   78   1538\n",
      "B         6489  314   6803\n",
      "Итого     7949  392   8341\n"
     ]
    }
   ],
   "source": [
    "contingency_table = pd.crosstab(\n",
    "                                index=df['group'],    # Строки — группы A/B\n",
    "                                columns=df['pay_stud'],  # Столбцы — оплата (0 или 1)\n",
    "                                margins=True,         # Добавить итоговые строки/столбцы\n",
    "                                margins_name='Итого'  # Название для итогов\n",
    ")\n",
    "\n",
    "print(contingency_table)"
   ]
  },
  {
   "cell_type": "markdown",
   "metadata": {},
   "source": [
    "2. Визуализируем"
   ]
  },
  {
   "cell_type": "code",
   "execution_count": 47,
   "metadata": {},
   "outputs": [
    {
     "data": {
      "image/png": "[encoded data removed]",
      "text/plain": [
       "<Figure size 432x288 with 2 Axes>"
      ]
     },
     "metadata": {
      "needs_background": "light"
     },
     "output_type": "display_data"
    }
   ],
   "source": [
    "sns.heatmap(contingency_table.iloc[:-1, :-1], annot=True, fmt='d', cmap='Blues')\n",
    "plt.title('Таблица сопряженности: группа vs оплата')\n",
    "plt.xlabel('Оплатили (1) / Не оплатили (0)')\n",
    "plt.ylabel('Группа')\n",
    "plt.show()\n",
    "\n",
    "#группа А(контольная), группа B(тестовая)"
   ]
  },
  {
   "cell_type": "markdown",
   "metadata": {},
   "source": [
    "3. Проведем тест"
   ]
  },
  {
   "cell_type": "code",
   "execution_count": 48,
   "metadata": {},
   "outputs": [
    {
     "name": "stdout",
     "output_type": "stream",
     "text": [
      "Статистика хи-квадрат: 0.5821513741106591\n",
      "P-значение: 0.9650262748206196\n"
     ]
    }
   ],
   "source": [
    "chi2_stat, p_value, dof, expected = stats.chi2_contingency(contingency_table)\n",
    "\n",
    "print(f'Статистика хи-квадрат: {chi2_stat}')\n",
    "print(f'P-значение: {p_value}')"
   ]
  },
  {
   "cell_type": "markdown",
   "metadata": {},
   "source": [
    "P-значение > 0.05 Нулевую гипотезу не отвергаем. Вывод о различиях в конверсии сделать не можем."
   ]
  },
  {
   "cell_type": "markdown",
   "metadata": {},
   "source": [
    "## ИТОГО"
   ]
  },
  {
   "cell_type": "markdown",
   "metadata": {},
   "source": [
    "На такими представленными данными я бы сделала вывод о том, что нужно запускать новый механику оплаты на всех пользователей.\n",
    "Почему? По сравнению **средних** получили статистически значимое различие. При расчете показателя ARPPU средний доход на платящего пользователя также увеличилась на 35%. Если же основная цель в увеличении дохода (а это в коммерции всегда является основной целью), то новую механику выкатываем на всех пользователей.\n",
    "Несмотря на результат по анализу метрики - конверсия в оплату."
   ]
  },
  {
   "cell_type": "code",
   "execution_count": null,
   "metadata": {},
   "outputs": [],
   "source": []
  },
  {
   "cell_type": "code",
   "execution_count": null,
   "metadata": {},
   "outputs": [],
   "source": []
  },
  {
   "cell_type": "code",
   "execution_count": null,
   "metadata": {},
   "outputs": [],
   "source": []
  },
  {
   "cell_type": "code",
   "execution_count": null,
   "metadata": {},
   "outputs": [],
   "source": []
  },
  {
   "cell_type": "markdown",
   "metadata": {},
   "source": [
    "\n",
    "- Реализуем функцию, которая будет автоматически подгружать информацию из дополнительного файла groups_add.csv (заголовки могут отличаться) и на основании дополнительных параметров пересчитывать метрики.\n",
    "- Реализуем функцию, которая будет строить графики по получаемым метрикам."
   ]
  },
  {
   "cell_type": "markdown",
   "metadata": {},
   "source": [
    "1. Загрузка файлов"
   ]
  },
  {
   "cell_type": "code",
   "execution_count": 49,
   "metadata": {},
   "outputs": [],
   "source": [
    "#список публичных ссылок на основные файлы\n",
    "groups_yd       = 'https://disk.yandex.ru/d/UhyYx41rTt3clQ'            \n",
    "active_studs_yd = 'https://disk.yandex.ru/d/Tbs44Bm6H_FwFQ'          \n",
    "checks_yd       = 'https://disk.yandex.ru/d/pH1q-VqcxXjsVA'          \n",
    "\n",
    "#публичная ссылка на доп. файл\n",
    "groups_add_yd    = 'https://disk.yandex.ru/d/5Kxrz02m3IBUwQ'\n",
    "\n",
    "\n",
    "#функция для скачивания \n",
    "\n",
    "def get_yd(public_key: str) -> str:\n",
    "\n",
    "    base_url  = 'https://cloud-api.yandex.net/v1/disk/public/resources/download?'\n",
    "    final_url = base_url + urlencode({'public_key': public_key})\n",
    "    response  = requests.get(final_url)\n",
    "    response.raise_for_status()  # выбросит ошибку, если запрос неудачен\n",
    "    download_url = response.json()['href']\n",
    "    return download_url\n",
    "\n",
    "#итоговые файлы\n",
    "groups       = pd.read_csv(get_yd(groups_yd), sep=';')\n",
    "groups_add   = pd.read_csv(get_yd(groups_add_yd))\n",
    "active_studs = pd.read_csv(get_yd(active_studs_yd), sep=';')\n",
    "checks       = pd.read_csv(get_yd(checks_yd), sep=';')\n"
   ]
  },
  {
   "cell_type": "markdown",
   "metadata": {},
   "source": [
    "2. Расчет метрик"
   ]
  },
  {
   "cell_type": "code",
   "execution_count": 50,
   "metadata": {},
   "outputs": [
    {
     "data": {
      "text/plain": [
       "{'ARPPU': {'группа A': 933.59, 'группа B': 1257.88},\n",
       " 'ARPU': {'группа A': 47.35, 'группа B': 58.06},\n",
       " 'Конверсия в оплату': {'группа A': 5.07, 'группа B': 4.62}}"
      ]
     },
     "execution_count": 50,
     "metadata": {},
     "output_type": "execute_result"
    }
   ],
   "source": [
    "def calculate_metrics(data):\n",
    "    \n",
    "    #объединим df\n",
    "    groups_all = pd.concat([groups, groups_add]) #groups с groups_add\n",
    "    df_all_activ = pd.merge(groups_all,  active_studs, left_on='id', right_on='student_id', how='left') #groups_all с active_studs \n",
    "    df = pd.merge(df_all_activ, checks, left_on='id', right_on='student_id', how='left') #df_all_activ c checks\n",
    "\n",
    "    #переименуем\n",
    "    df = df.rename(columns={'grp': 'group',\n",
    "                        'student_id_x': 'active_stud',\n",
    "                        'student_id_y': 'pay_stud',\n",
    "                        'rev': 'payment'}) \n",
    "\n",
    "    #заменим пустые на 0; id студента заменим на 1\n",
    "    df['active_stud'] = df['active_stud'].notna().astype(int)    \n",
    "    df['pay_stud'] = df['pay_stud'].notna().astype(int)\n",
    "    df['payment'] = df['payment'].fillna(0)\n",
    "\n",
    "    #проверим на то, есть ли неактиные пользователи среди оплативших\n",
    "    unactiv_pay_stud = df.query('pay_stud == 1 and active_stud == 0')\n",
    "\n",
    "    #доля активных от всех пользователей\n",
    "    df.query(\"active_stud== 1\").id.count() / df.id.count() *100\n",
    "\n",
    "    #оставим только активных пользователей\n",
    "    df = df.query(\"active_stud== 1\")\n",
    "    group_a = df.query('group == \"A\"').reset_index(drop=True) #разделение на группы A и B\n",
    "    group_b = df.query('group == \"B\"').reset_index(drop=True) \n",
    "    \n",
    "    total_payment_a = group_a.query('pay_stud == 1') #платящие \n",
    "    total_payment_b = group_b.query('pay_stud == 1')\n",
    "\n",
    "    # ARPPU\n",
    "    arppu_a = total_payment_a.payment.mean().round(2)\n",
    "    arppu_b = total_payment_b.payment.mean().round(2)\n",
    "\n",
    "    # Конверсия в оплату\n",
    "    conversation_group_a =  (total_payment_a.id.count() / group_a.id.count() * 100).round(2)\n",
    "    conversation_group_b =  (total_payment_b.id.count() / group_b.id.count() * 100).round(2)\n",
    "\n",
    "    # ARPU (Average Revenue Per User)\n",
    "    arpu_a = (total_payment_a.payment.sum()/group_a.id.count()).round(2)\n",
    "    arpu_b = (total_payment_b.payment.sum()/group_b.id.count()).round(2)\n",
    "\n",
    "\n",
    "    # Возвращаем метрики в виде словаря\n",
    "    return {\n",
    "        'ARPPU': {'группа A': arppu_a, 'группа B': arppu_b},\n",
    "        'ARPU': {'группа A': arpu_a, 'группа B':  arpu_b},\n",
    "        'Конверсия в оплату': {'группа A':  conversation_group_a, 'группа B':  conversation_group_b},\n",
    "    }\n",
    "\n",
    "metrics = calculate_metrics(df)\n",
    "metrics"
   ]
  },
  {
   "cell_type": "markdown",
   "metadata": {},
   "source": [
    "3. Визуализация"
   ]
  },
  {
   "cell_type": "code",
   "execution_count": 51,
   "metadata": {},
   "outputs": [
    {
     "data": {
      "text/plain": [
       "<Figure size 432x288 with 0 Axes>"
      ]
     },
     "metadata": {},
     "output_type": "display_data"
    },
    {
     "data": {
      "image/png": "[encoded data removed]",
      "text/plain": [
       "<Figure size 1080x360 with 3 Axes>"
      ]
     },
     "metadata": {
      "needs_background": "light"
     },
     "output_type": "display_data"
    }
   ],
   "source": [
    "def plot_metrics(metrics, palette=\"pastel\"):\n",
    "\n",
    "     # Преобразуем входные данные в DataFrame\n",
    "    df_metrics = pd.DataFrame(metrics).T\n",
    "    \n",
    "    #общий заголовок\n",
    "    plt.suptitle('Сравнение ключевых метрик по группам', fontsize=14, y=1.05)\n",
    "    plt.figure(figsize=(15, 5))\n",
    "    colors = sns.color_palette(palette, n_colors=len(df_metrics.columns))\n",
    "    \n",
    "    #ARPPU\n",
    "    plt.subplot(1, 3, 1)\n",
    "    ax1 = sns.barplot(x=df_metrics.columns, y=df_metrics.loc['ARPPU'])\n",
    "    plt.title('ARPPU', fontsize=12, pad=10)\n",
    "    plt.ylabel('Средний доход', fontsize=10)\n",
    "    \n",
    "\n",
    "    #ARPU\n",
    "    plt.subplot(1, 3, 2)\n",
    "    ax2 = sns.barplot(x=df_metrics.columns, y=df_metrics.loc['ARPU'])\n",
    "    plt.title('ARPU', fontsize=12, pad=10)\n",
    "    plt.ylabel('Средний доход', fontsize=10)\n",
    "    \n",
    "    # Конверсия в оплату\n",
    "    plt.subplot(1, 3, 3)\n",
    "    ax3 = sns.barplot(x=df_metrics.columns, y=df_metrics.loc['Конверсия в оплату'])\n",
    "    plt.title('Конверсия в оплату', fontsize=12, pad=10)\n",
    "    plt.ylabel('Процент (%)', fontsize=10)\n",
    "    \n",
    "  \n",
    "\n",
    "    plt.tight_layout()\n",
    "    plt.show()\n",
    "    \n",
    "plot_metrics(metrics)"
   ]
  },
  {
   "cell_type": "code",
   "execution_count": null,
   "metadata": {},
   "outputs": [],
   "source": []
  }
 ],
 "metadata": {
  "kernelspec": {
   "display_name": "Python 3",
   "language": "python",
   "name": "python3"
  },
  "language_info": {
   "codemirror_mode": {
    "name": "ipython",
    "version": 3
   },
   "file_extension": ".py",
   "mimetype": "text/x-python",
   "name": "python",
   "nbconvert_exporter": "python",
   "pygments_lexer": "ipython3",
   "version": "3.7.3"
  }
 },
 "nbformat": 4,
 "nbformat_minor": 4
}
